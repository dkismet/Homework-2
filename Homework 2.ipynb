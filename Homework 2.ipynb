{
 "cells": [
  {
   "cell_type": "markdown",
   "id": "c209b646",
   "metadata": {},
   "source": [
    "### Homework #2"
   ]
  },
  {
   "cell_type": "markdown",
   "id": "869ebfd6",
   "metadata": {},
   "source": [
    "1. Round 4.5667 to the nearest hundreth (2 decimals) using a build-in function, round()."
   ]
  },
  {
   "cell_type": "code",
   "execution_count": 2,
   "id": "123658aa",
   "metadata": {},
   "outputs": [
    {
     "data": {
      "text/plain": [
       "4.57"
      ]
     },
     "execution_count": 2,
     "metadata": {},
     "output_type": "execute_result"
    }
   ],
   "source": [
    "round (4.5667, 2)\n",
    "\n",
    "\n",
    "\n",
    "\n",
    "\n"
   ]
  },
  {
   "cell_type": "markdown",
   "id": "9d3f352c",
   "metadata": {},
   "source": [
    "2. Convert \"657\" to an integer data type"
   ]
  },
  {
   "cell_type": "code",
   "execution_count": 3,
   "id": "d5a67683",
   "metadata": {},
   "outputs": [
    {
     "data": {
      "text/plain": [
       "657"
      ]
     },
     "execution_count": 3,
     "metadata": {},
     "output_type": "execute_result"
    }
   ],
   "source": [
    "int (657)"
   ]
  },
  {
   "cell_type": "markdown",
   "id": "a36f06d4",
   "metadata": {},
   "source": [
    "3. Write a program to get two numbers from a user. Then, create a 6-digit code that is a series of randomly generated numbers between the two numbers given by the user. Print the 6-digit code so all digits are separated by a dash. "
   ]
  },
  {
   "cell_type": "code",
   "execution_count": null,
   "id": "021c92d4",
   "metadata": {},
   "outputs": [],
   "source": []
  },
  {
   "cell_type": "markdown",
   "id": "ee1441a1",
   "metadata": {},
   "source": [
    "4. Write a program to remove ALL the white spaces from the following text:\n",
    "\n",
    "        Hickory, dickory, dock,     \n",
    "        The mouse ran up the clock.   \n",
    "        The clock struck one,   \n",
    "        The mouse ran down,                      \n",
    "        Hickory, dickory, dock                  "
   ]
  },
  {
   "cell_type": "code",
   "execution_count": 5,
   "id": "8bf680f1",
   "metadata": {},
   "outputs": [],
   "source": [
    "line1=\"hickory,dickory, dock,\"\n"
   ]
  },
  {
   "cell_type": "code",
   "execution_count": 8,
   "id": "59d9c718",
   "metadata": {},
   "outputs": [
    {
     "data": {
      "text/plain": [
       "'hickory,dickory, dock,'"
      ]
     },
     "execution_count": 8,
     "metadata": {},
     "output_type": "execute_result"
    }
   ],
   "source": [
    "line1 = line1.strip ()\n",
    "line1"
   ]
  },
  {
   "cell_type": "code",
   "execution_count": null,
   "id": "11c24618",
   "metadata": {},
   "outputs": [],
   "source": []
  },
  {
   "cell_type": "markdown",
   "id": "72d87b5b",
   "metadata": {},
   "source": [
    "5. Write a function to calculate the miles per gallon. Get a miles driven and gallons used from a user and call your function to calculate the miles per gallon."
   ]
  },
  {
   "cell_type": "code",
   "execution_count": 9,
   "id": "27be7372",
   "metadata": {},
   "outputs": [],
   "source": [
    "def miles_per_gallon(miles, gallons):\n",
    "    mpg = miles/gallons\n",
    "    mpg = round(mpg, 2)\n",
    "    return mpg\n"
   ]
  },
  {
   "cell_type": "code",
   "execution_count": 12,
   "id": "b79f0b70",
   "metadata": {},
   "outputs": [
    {
     "name": "stdout",
     "output_type": "stream",
     "text": [
      "Enter miles driven: 120\n",
      "Enter gallons used: 10\n",
      "you got 12.0 to the gallon\n"
     ]
    }
   ],
   "source": [
    "miles_driven = float(input(\"Enter miles driven: \"))\n",
    "gallons_used = float(input(\"Enter gallons used: \"))\n",
    "\n",
    "mpg = miles_per_gallon(miles_driven, gallons_used)\n",
    "print(f\"you got {mpg} to the gallon\")"
   ]
  },
  {
   "cell_type": "markdown",
   "id": "1f3942b8",
   "metadata": {},
   "source": [
    "6. Enhance the <b>compute()</b> function created during Module 2. Enhance the function to compute a circle's area and circumference where:\n",
    "\n",
    " - circle's area = 3.14 X (radius X radius)   \n",
    " - circle's circumference = 3.14 X diameter"
   ]
  },
  {
   "cell_type": "code",
   "execution_count": null,
   "id": "df43daca",
   "metadata": {},
   "outputs": [],
   "source": [
    "def compute (radius):\n",
    "    "
   ]
  },
  {
   "cell_type": "code",
   "execution_count": null,
   "id": "fa8de89a",
   "metadata": {},
   "outputs": [],
   "source": []
  },
  {
   "cell_type": "markdown",
   "id": "4c5d83bb",
   "metadata": {},
   "source": [
    "7. Write a function called multiply_two() that accepts two parameters. The function should print a message like '15 * 2 = 30'.  Randomly generate two numbers between 1 and 100, then call the function with the two random numbers."
   ]
  },
  {
   "cell_type": "code",
   "execution_count": 18,
   "id": "fe5ca2dc",
   "metadata": {},
   "outputs": [
    {
     "name": "stdout",
     "output_type": "stream",
     "text": [
      "57 * 77 = 4389\n"
     ]
    }
   ],
   "source": [
    "import random as rand\n",
    "\n",
    "def multiply_two(param1, param2):\n",
    "    print (f\"{param1} * {param2} = {param1 * param2}\")\n",
    "    \n",
    "multiply_two(rand.randint(1, 100), rand.randint(1,100))\n",
    "    \n",
    "    "
   ]
  },
  {
   "cell_type": "markdown",
   "id": "36865477",
   "metadata": {},
   "source": [
    "8. Create a function for a multiplication table.  Get a number from a user and then call you function which produces a multiplication table for that number.\n",
    "The output should look something like this:\n",
    "\n",
    "        Enter a number: 3\n",
    "        3 X 1 = 3\n",
    "        3 X 2 = 6\n",
    "        3 X 3 = 9\n",
    "        3 X 4 = 12\n",
    "        3 X 5 = 15\n",
    "        3 X 6 = 18\n",
    "        3 X 7 = 21\n",
    "        3 X 8 = 24\n",
    "        3 X 9 = 27"
   ]
  },
  {
   "cell_type": "code",
   "execution_count": 1,
   "id": "b023e863",
   "metadata": {},
   "outputs": [
    {
     "name": "stdout",
     "output_type": "stream",
     "text": [
      "What would you like to multiply? 7\n",
      "7 * 1 = 7\n",
      "7 * 2 = 14\n",
      "7 * 3 = 21\n",
      "7 * 4 = 28\n",
      "7 * 5 = 35\n",
      "7 * 6 = 42\n",
      "7 * 7 = 49\n",
      "7 * 8 = 56\n",
      "7 * 9 = 63\n"
     ]
    }
   ],
   "source": [
    "def multiplication_table(number):\n",
    "    print(f\"{number} * 1 = {number * 1}\")\n",
    "    print(f\"{number} * 2 = {number * 2}\")\n",
    "    print(f\"{number} * 3 = {number * 3}\")\n",
    "    print(f\"{number} * 4 = {number * 4}\")\n",
    "    print(f\"{number} * 5 = {number * 5}\")\n",
    "    print(f\"{number} * 6 = {number * 6}\")\n",
    "    print(f\"{number} * 7 = {number * 7}\")\n",
    "    print(f\"{number} * 8 = {number * 8}\")\n",
    "    print(f\"{number} * 9 = {number * 9}\")\n",
    "    \n",
    "    \n",
    "number = int(input(\"What would you like to multiply? \"))\n",
    "multiplication_table(number) "
   ]
  },
  {
   "cell_type": "code",
   "execution_count": null,
   "id": "42d23dcd",
   "metadata": {},
   "outputs": [],
   "source": [
    "\n",
    "         number = int(input(\"What would you like to multiply? \")) \n"
   ]
  },
  {
   "cell_type": "code",
   "execution_count": null,
   "id": "563c8445",
   "metadata": {},
   "outputs": [],
   "source": []
  }
 ],
 "metadata": {
  "kernelspec": {
   "display_name": "Python 3 (ipykernel)",
   "language": "python",
   "name": "python3"
  },
  "language_info": {
   "codemirror_mode": {
    "name": "ipython",
    "version": 3
   },
   "file_extension": ".py",
   "mimetype": "text/x-python",
   "name": "python",
   "nbconvert_exporter": "python",
   "pygments_lexer": "ipython3",
   "version": "3.9.7"
  }
 },
 "nbformat": 4,
 "nbformat_minor": 5
}
